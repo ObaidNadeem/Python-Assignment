{
 "cells": [
  {
   "cell_type": "code",
   "execution_count": 1,
   "metadata": {},
   "outputs": [
    {
     "name": "stdout",
     "output_type": "stream",
     "text": [
      "Enter marks obtained in 5 subjects: \n",
      "80\n",
      "10\n",
      "80\n",
      "0\n",
      "50\n",
      "Your Grade is E\n"
     ]
    }
   ],
   "source": [
    "print(\"Enter marks obtained in 5 subjects: \");\n",
    "mark1 = input();\n",
    "if mark1 == 'x':\n",
    "    exit();\n",
    "else:\n",
    "    mark1 = int(mark1);\n",
    "    mark2 = int(input());\n",
    "    mark3 = int(input());\n",
    "    mark4 = int(input());\n",
    "    mark5 = int(input());\n",
    "    sum = mark1 + mark2 + mark3 + mark4 + mark5;\n",
    "    average = sum/5;\n",
    "    if(average>=91 and average<=100):\n",
    "    \tprint(\"Your Grade is A+\");\n",
    "    elif(average>=81 and average<=90):\n",
    "    \tprint(\"Your Grade is A\");\n",
    "    elif(average>=71 and average<=80):\n",
    "    \tprint(\"Your Grade is B\");\n",
    "    elif(average>=61 and average<=70):\n",
    "    \tprint(\"Your Grade is C\");\n",
    "    elif(average>=51 and average<=60):\n",
    "    \tprint(\"Your Grade is D\");\n",
    "    elif(average>=41 and average<=50):\n",
    "    \tprint(\"Your Grade is E\");\n",
    "    elif(average>=0 and average<=40):\n",
    "    \tprint(\"Your Grade is F\");\n",
    "    else:\n",
    "    \tprint(\"Strange Grade..!!\");\n",
    "        "
   ]
  },
  {
   "cell_type": "code",
   "execution_count": null,
   "metadata": {},
   "outputs": [
    {
     "name": "stdout",
     "output_type": "stream",
     "text": [
      "Enter 'x' for exit.\n"
     ]
    }
   ],
   "source": [
    "print(\"Enter 'x' for exit.\");\n",
    "num = input(\"Enter any number: \");\n",
    "if num == 'x':\n",
    "    exit();\n",
    "try:\n",
    "    number = float(num);\n",
    "except ValueError:\n",
    "    print(\"Please, enter a number...\");\n",
    "else:\n",
    "    check = number%2;\n",
    "    if check == 0:\n",
    "    \t    print(int(number), \"is an even number.\");\n",
    "    elif check == 1:\n",
    "    \tprint(int(number), \"is an odd number.\");\n",
    "    else:\n",
    "    \tprint(number, \"is strange.\");"
   ]
  },
  {
   "cell_type": "code",
   "execution_count": null,
   "metadata": {},
   "outputs": [],
   "source": [
    "print(\"Enter 'x' for exit.\");\n",
    "print(\"Enter any three numbers: \");\n",
    "num1 = input();\n",
    "if num1 == 'x':\n",
    "    exit();\n",
    "else:\n",
    "    num2 = input();\n",
    "    num3 = input();\n",
    "    number1 = int(num1);\n",
    "    number2 = int(num2);\n",
    "    number3 = int(num3);\n",
    "    largest = number1;\n",
    "    count = 1;\n",
    "    if largest < number2:\n",
    "        if number2 > number3:\n",
    "            largest = number2;\n",
    "        else:\n",
    "            largest = number3;\n",
    "    elif largest < number3:\n",
    "        if number3 > number2:\n",
    "            largest = number3;\n",
    "        else:\n",
    "            largest = number2;\n",
    "    else:\n",
    "        largest = number1;\n",
    "    if number1 == number2:\n",
    "        if number1 == number3:\n",
    "            count = 0;\n",
    "    if count == 0:\n",
    "        print(\"\\nAll numbers are equal to each other.\");\n",
    "    else:\n",
    "        print(\"\\nLargest of the given three numbers is\",largest);"
   ]
  },
  {
   "cell_type": "code",
   "execution_count": null,
   "metadata": {},
   "outputs": [],
   "source": []
  }
 ],
 "metadata": {
  "kernelspec": {
   "display_name": "Python 3",
   "language": "python",
   "name": "python3"
  },
  "language_info": {
   "codemirror_mode": {
    "name": "ipython",
    "version": 3
   },
   "file_extension": ".py",
   "mimetype": "text/x-python",
   "name": "python",
   "nbconvert_exporter": "python",
   "pygments_lexer": "ipython3",
   "version": "3.7.4"
  }
 },
 "nbformat": 4,
 "nbformat_minor": 2
}
