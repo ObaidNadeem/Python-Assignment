{
 "cells": [
  {
   "cell_type": "code",
   "execution_count": 1,
   "metadata": {},
   "outputs": [
    {
     "name": "stdout",
     "output_type": "stream",
     "text": [
      "First_name Obaid\n",
      "Last_name Nadeem\n",
      "Age 18\n",
      "city Karachi\n"
     ]
    }
   ],
   "source": [
    "Persons_Info = {\"First_name\" : \"Obaid\", \"Last_name\" : \"Nadeem\", \"Age\" : \"18\", \"city\" : \"Karachi\"}\n",
    "for each_key,each_value in Persons_Info.items():\n",
    "    print (each_key + \" \" + each_value)\n",
    "    \n",
    "Persons_Info.update({\"Qualification\" : \"High Academic Level\"})\n",
    "\n",
    "del Persons_Info[\"Qualification\"]\n"
   ]
  },
  {
   "cell_type": "code",
   "execution_count": 2,
   "metadata": {},
   "outputs": [
    {
     "name": "stdout",
     "output_type": "stream",
     "text": [
      "City: Karachi\n",
      "country: Pakistan\n",
      "population: 14.91 million\n",
      "fact: 6th most populous city in the world\n",
      "\n",
      "City: Lahore\n",
      "country: Pakistan\n",
      "population: 11.13 million\n",
      "fact: 32nd most populous city in the world\n",
      "\n",
      "City: Islamabad\n",
      "country: Pakistan\n",
      "population: 1.015 million\n",
      "fact: Capital of Pakistan\n",
      "\n"
     ]
    }
   ],
   "source": [
    "cities = {\"Karachi\" : {\"country\" : \"Pakistan\" , \"population\" : \"14.91 million\", \"fact\" : \"6th most populous city in the world\"}, \n",
    "          \"Lahore\" : {\"country\" : \"Pakistan\" , \"population\" : \"11.13 million\", \"fact\" : \"32nd most populous city in the world\"}, \n",
    "          \"Islamabad\" : {\"country\" : \"Pakistan\", \"population\" : \"1.015 million\", \"fact\" : \"Capital of Pakistan\"}}\n",
    "\n",
    "for city in cities:\n",
    "    print(\"City: \" + city)\n",
    "    for info in cities[city]:\n",
    "        print(info + \": \" + cities[city][info])\n",
    "    print()\n"
   ]
  },
  {
   "cell_type": "code",
   "execution_count": null,
   "metadata": {},
   "outputs": [
    {
     "name": "stdout",
     "output_type": "stream",
     "text": [
      "Enter your age: 18\n",
      "Your movie ticket costs $15\n",
      "\n"
     ]
    }
   ],
   "source": [
    "age = int(input(\"Enter your age: \"))\n",
    "while age != -1:\n",
    "    if age < 3:\n",
    "        print(\"Your movie ticket is free\")\n",
    "    elif age > 2 and  age <= 12:\n",
    "        print(\"Your movie ticket costs $10\")\n",
    "    else:\n",
    "        print(\"Your movie ticket costs $15\")\n",
    "    print()\n",
    "    age = int(input(\"Enter your age: \"))"
   ]
  },
  {
   "cell_type": "code",
   "execution_count": null,
   "metadata": {},
   "outputs": [],
   "source": [
    "def favorite_book(title):\n",
    "    print(\"One of my favorite books is \" + title)\n",
    "    \n",
    "favorite_book(\"The Great Expectations\")"
   ]
  },
  {
   "cell_type": "code",
   "execution_count": null,
   "metadata": {},
   "outputs": [],
   "source": [
    "import random\n",
    "\n",
    "attempts = 0\n",
    "ans = random.randint(1,30)\n",
    "print(\"Guess a number between 1 and 30\")\n",
    "print()\n",
    "\n",
    "while attempts < 3:\n",
    "    attempts += 1\n",
    "    guess = int(input(\"Guess the answer: \"))\n",
    "    if guess == ans:\n",
    "        print(\"Correct! You guessed the answer\")\n",
    "        break\n",
    "    elif guess > ans:\n",
    "        print(\"Your guess is bigger than the answer\")\n",
    "    else:\n",
    "        print(\"Your guess is smaller than the answer\")"
   ]
  },
  {
   "cell_type": "code",
   "execution_count": null,
   "metadata": {},
   "outputs": [],
   "source": []
  }
 ],
 "metadata": {
  "kernelspec": {
   "display_name": "Python 3",
   "language": "python",
   "name": "python3"
  },
  "language_info": {
   "codemirror_mode": {
    "name": "ipython",
    "version": 3
   },
   "file_extension": ".py",
   "mimetype": "text/x-python",
   "name": "python",
   "nbconvert_exporter": "python",
   "pygments_lexer": "ipython3",
   "version": "3.7.4"
  }
 },
 "nbformat": 4,
 "nbformat_minor": 2
}
